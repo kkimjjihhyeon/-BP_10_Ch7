{
  "nbformat": 4,
  "nbformat_minor": 0,
  "metadata": {
    "colab": {
      "provenance": [],
      "include_colab_link": true
    },
    "kernelspec": {
      "name": "python3",
      "display_name": "Python 3"
    },
    "language_info": {
      "name": "python"
    }
  },
  "cells": [
    {
      "cell_type": "markdown",
      "metadata": {
        "id": "view-in-github",
        "colab_type": "text"
      },
      "source": [
        "<a href=\"https://colab.research.google.com/github/kkimjjihhyeon/BP_10_Ch7/blob/main/BP_10_EX_Ch7.ipynb\" target=\"_parent\"><img src=\"https://colab.research.google.com/assets/colab-badge.svg\" alt=\"Open In Colab\"/></a>"
      ]
    },
    {
      "cell_type": "markdown",
      "source": [],
      "metadata": {
        "id": "vxogz563aeL4"
      }
    },
    {
      "cell_type": "code",
      "source": [
        "def birthday(name): #name이 매개변수인 birthday라는 이름의 함수 정의\n",
        "  print(\"==============================\") \n",
        "  print(\"Happy Birthday to you!\")\n",
        "  print(\"Happt Birthday to you!\")\n",
        "  print(\"Happy Birtjday, dear \", name) \n",
        "  print(\"Happy Birthday to you!\")\n",
        "\n",
        "birthday(input()) #사용자가 입력한 값을 인수로 설정, birthday함수 호출"
      ],
      "metadata": {
        "colab": {
          "base_uri": "https://localhost:8080/"
        },
        "id": "wiy2JUmil5lz",
        "outputId": "b94ca499-af42-4f74-d4c8-bd5accdbd90e"
      },
      "execution_count": null,
      "outputs": [
        {
          "output_type": "stream",
          "name": "stdout",
          "text": [
            "홍길동\n",
            "==============================\n",
            "Happy Birthday to you!\n",
            "Happt Birthday to you!\n",
            "Happy Birtjday, dear  홍길동\n",
            "Happy Birthday to you!\n"
          ]
        }
      ]
    },
    {
      "cell_type": "code",
      "execution_count": null,
      "metadata": {
        "id": "nr40TjYqjcUo",
        "colab": {
          "base_uri": "https://localhost:8080/"
        },
        "outputId": "4bc0d7e2-188d-48ea-e8e9-c110e746edb6"
      },
      "outputs": [
        {
          "output_type": "stream",
          "name": "stdout",
          "text": [
            "첫 번째 정수: 10\n",
            "두 번째 정수: 20\n",
            "정수 10+20의 합은? \n"
          ]
        }
      ],
      "source": [
        "def MathQ(): #MathQ라는 이름의 함수 정의\n",
        "  a = int(input(\"첫 번째 정수: \"))  #a변수 선언\n",
        "  b = int(input(\"두 번째 정수: \")) #b변수 선언\n",
        "  print(\"정수 %d+%d의 합은? \" %(a, b))\n",
        "\n",
        "MathQ(2) #MathQ 함수 호출"
      ]
    },
    {
      "cell_type": "code",
      "source": [
        "PI = 3.14 #PI변수 선언\n",
        "def circleArea(radius): #radius이 매개변수인 circleArea라는 이름의 함수 정의\n",
        "  return PI*(radius**2) \n",
        "def circleCircumference(radius): #radius이 매개변수인 circleCircumference라는 이름의 함수 정의\n",
        "  return 2*PI*radius\n",
        "print(\"반지름이 5인 원의 면적:\", circleArea(5)) #인수를 5로 설정한 circleArea함수 호출하고 출력\n",
        "print(\"반지름이 5인 원의 둘레:\", circleCircumference(5)) #인수를 5로 설정한 circleCircumference함수 호출하고 출력"
      ],
      "metadata": {
        "colab": {
          "base_uri": "https://localhost:8080/"
        },
        "id": "wLbM1CY5nr-z",
        "outputId": "07ccefbb-f85c-43a7-d731-67d5d5a51f0b"
      },
      "execution_count": null,
      "outputs": [
        {
          "output_type": "stream",
          "name": "stdout",
          "text": [
            "반지름이 5인 원의 면적: 78.5\n",
            "반지름이 5인 원의 둘레: 31.400000000000002\n"
          ]
        }
      ]
    },
    {
      "cell_type": "code",
      "source": [
        "def sum(a, b): #매개변수가 a,b인 sum함수 정의\n",
        "    print(\"(%s + %s) = %s\"%(a, b, a+b))\n",
        "def minus(a, b): #매개변수가 a,b인 minus함수 정의\n",
        "    print(\"(%s - %s) = %s\"%(a, b, a-b))\n",
        "def multiply(a, b): #매개변수가 a,b인 multiply함수 정의\n",
        "    print(\"(%s * %s) = %s\"%(a, b, a*b))\n",
        "def division(a, b): #매개변수가 a,b인 division함수 정의\n",
        "    print(\"(%s / %s) = %s\"%(a, b, a/b))\n",
        "\n",
        "n1 = int(input(\"첫 번쨰 정수: \")) #n1변수 선언\n",
        "n2 = int(input(\"두 번쨰 정수: \")) #n2변수 선언\n",
        "sum(n1, n2) #인수가 n1, n2인 sum 함수 호출\n",
        "minus(n1, n2) #인수가 n1, n2인 minus 함수 호출\n",
        "multiply(n1, n2) #인수가 n1, n2인 multiply 함수 호출\n",
        "division(n1, n2) #인수가 n1, n2인 division 함수 호출"
      ],
      "metadata": {
        "colab": {
          "base_uri": "https://localhost:8080/"
        },
        "id": "QCgMrZfpz-WB",
        "outputId": "e449c656-d282-44b3-cbcb-d491a44dcfda"
      },
      "execution_count": null,
      "outputs": [
        {
          "output_type": "stream",
          "name": "stdout",
          "text": [
            "첫 번쨰 정수: 20\n",
            "두 번쨰 정수: 10\n",
            "(20 + 10) = 30\n",
            "(20 - 10) = 10\n",
            "(20 * 10) = 200\n",
            "(20 / 10) = 2.0\n"
          ]
        }
      ]
    }
  ]
}